{
 "cells": [
  {
   "cell_type": "markdown",
   "source": [
    "# DICOM File to Prediction\n",
    "The goal of this notebook is to create a pipeline that goes from a dicom file to making a prediction about\n",
    "pneumonia based on the x-ray image provided in the dicom file."
   ],
   "metadata": {
    "collapsed": false,
    "pycharm": {
     "name": "#%% md\n"
    }
   }
  },
  {
   "cell_type": "code",
   "execution_count": null,
   "metadata": {},
   "outputs": [],
   "source": [
    "import numpy as np\n",
    "import pandas as pd\n",
    "import pydicom\n",
    "%matplotlib inline\n",
    "import matplotlib.pyplot as plt\n",
    "import tensorflow as tf\n",
    "import skimage.transform"
   ]
  },
  {
   "cell_type": "code",
   "execution_count": null,
   "metadata": {},
   "outputs": [],
   "source": [
    "def check_dicom(filename):\n",
    "    \"\"\"\n",
    "    This function reads in a .dcm file and returns a numpy array of just the imaging data\n",
    "    :param filename: filename for the dicom file\n",
    "    :return: array of pixels for the imaging data\n",
    "    \"\"\"\n",
    "    print(f'Loading file {filename} ...')\n",
    "    ds = pydicom.dcmread(filename)\n",
    "    return ds.pixel_array\n",
    "\n",
    "\n",
    "def preprocess_image(img, img_size, img_mean=None, img_std=None):\n",
    "    \"\"\"\n",
    "    This function takes the numpy array output by check_dicom and runs the appropriate pre-processing needed for our model input\n",
    "    :param img: The array of pixels from check_dicom functions\n",
    "    :param img_size: The desired image size\n",
    "    :param img_mean: This is the mean of the images you trained on (if applicable)\n",
    "    :param img_std: This is the standard deviation of the images you trained on (if applicable)\n",
    "    :return: processed image ready for model\n",
    "    \"\"\"\n",
    "    img = (img-img_mean)/img_std if img_mean and img_std else img/255\n",
    "    return skimage.transform.resize(img, img_size)\n",
    "\n",
    "\n",
    "def load_model(model_path, weight_path = None):\n",
    "    \"\"\"\n",
    "    This function loads in our trained model w/ weights and compiles it.\n",
    "    :param model_path: The path to where we saved out model\n",
    "    :param weight_path: Path to the model weights (if applicable)\n",
    "    :return: pre-trained model\n",
    "    \"\"\"\n",
    "    model = tf.keras.models.load_model(model_path, compile=True)\n",
    "    if weight_path:\n",
    "        model.load_weights(weight_path)\n",
    "    return model\n",
    "\n",
    "\n",
    "def predict_image(model, img, threshold):\n",
    "    \"\"\"\n",
    "    This function predicts whether or not the image shows the presence of pneumonia based on our trained model\n",
    "     and a given threshold.\n",
    "    :param model: Previously trained model to predict pneumonia\n",
    "    :param img: Image to make prediction on\n",
    "    :param threshold: Threshold value for making prediction\n",
    "    :return: Predicted Probability and 1 for Positive, 0 for negative based on threshold\n",
    "    \"\"\"\n",
    "    img_to_model = img.reshape((1,224,224,3))\n",
    "    prediction = model.predict(img_to_model)\n",
    "    return float(prediction), 1.0 if prediction > threshold else 0\n"
   ]
  },
  {
   "cell_type": "markdown",
   "source": [
    "# Setup Tests\n",
    "This section sets everything up based on the projects directory structure and the parameters we learned in the\n",
    "Build and Train model notebook. We will process the image from the dicom file and generate a prediction for every\n",
    "dicom file provided.\n"
   ],
   "metadata": {
    "collapsed": false,
    "pycharm": {
     "name": "#%% md\n"
    }
   }
  },
  {
   "cell_type": "code",
   "execution_count": null,
   "metadata": {},
   "outputs": [],
   "source": [
    "test_dicoms = ['test1.dcm','test2.dcm','test3.dcm','test4.dcm','test5.dcm','test6.dcm']\n",
    "model_path = 'models/DenseNet_model.h5'\n",
    "weight_path = \"current_best.hdf5\"\n",
    "\n",
    "IMG_SIZE= (224,224,3)\n",
    "img_mean = None\n",
    "img_std = None\n",
    "\n",
    "my_model = load_model(model_path)\n",
    "thresh = 0.135\n",
    "\n",
    "# use the .dcm files to process the images and make predictions\n",
    "probabilities = []\n",
    "predictions = []\n",
    "processed_images  = []\n",
    "\n",
    "for i in test_dicoms:\n",
    "    img = check_dicom(i)\n",
    "    if img is None:\n",
    "        continue\n",
    "    proc_img = preprocess_image(img, IMG_SIZE, img_mean, img_std)\n",
    "    processed_images.append(proc_img)\n",
    "    prob, pred = predict_image(my_model, proc_img, thresh)\n",
    "    probabilities.append(prob)\n",
    "    predictions.append(pred)\n"
   ]
  },
  {
   "cell_type": "markdown",
   "source": [
    "# Test Pipeline\n",
    "Lets make sure this pipeline from dicom file to predictions actually works and see how it did on the\n",
    "provided dicom files."
   ],
   "metadata": {
    "collapsed": false,
    "pycharm": {
     "name": "#%% md\n"
    }
   }
  },
  {
   "cell_type": "code",
   "execution_count": null,
   "outputs": [],
   "source": [
    "# Generate True Labels for visualization\n",
    "true_labels = []\n",
    "for filepath in test_dicoms:\n",
    "    dcm = pydicom.dcmread(filepath)\n",
    "    true_labels.append(1.0 if 'Pneumonia' in dcm.StudyDescription else 0.0)\n",
    "\n",
    "# Show images and results\n",
    "fig,ax = plt.subplots(2,3, figsize=(18,18))\n",
    "for (img, pred, prob, truth, c_ax) in zip(processed_images, predictions, probabilities, true_labels, ax.flatten()):\n",
    "    c_ax.imshow(img, cmap='gray')\n",
    "    c_ax.set_title(f'Truth: {truth}, Predicted: {pred}, Prob: {prob:.3f}')"
   ],
   "metadata": {
    "collapsed": false,
    "pycharm": {
     "name": "#%%\n"
    }
   }
  }
 ],
 "metadata": {
  "kernelspec": {
   "display_name": "Python 3",
   "language": "python",
   "name": "python3"
  },
  "language_info": {
   "codemirror_mode": {
    "name": "ipython",
    "version": 3
   },
   "file_extension": ".py",
   "mimetype": "text/x-python",
   "name": "python",
   "nbconvert_exporter": "python",
   "pygments_lexer": "ipython3",
   "version": "3.7.6"
  }
 },
 "nbformat": 4,
 "nbformat_minor": 2
}