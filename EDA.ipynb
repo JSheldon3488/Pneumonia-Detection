{
 "cells": [
  {
   "cell_type": "markdown",
   "source": [
    "# Exploratory Data Analysis\n",
    "-------\n",
    "\n",
    "## Import all necessary packages"
   ],
   "metadata": {
    "collapsed": false,
    "pycharm": {
     "name": "#%% md\n"
    }
   }
  },
  {
   "cell_type": "code",
   "execution_count": 4,
   "outputs": [],
   "source": [
    "from itertools import chain\n",
    "import numpy as np\n",
    "import pandas as pd\n",
    "import os\n",
    "from glob import glob\n",
    "%matplotlib inline\n",
    "import matplotlib.pyplot as plt\n",
    "from skimage import io\n",
    "import seaborn as sns"
   ],
   "metadata": {
    "collapsed": false,
    "pycharm": {
     "name": "#%%\n"
    }
   }
  },
  {
   "cell_type": "markdown",
   "source": [
    "## Examine the Dataset\n",
    "Below is some code to read and and view some observations in the dataset. Note that the filepath below are relative to the\n",
    "Udacity Workspace and you will need to change them to your local filepath if you want to run this locally.\n",
    "[Here](https://www.kaggle.com/nih-chest-xrays/data) is the where the dataset is located."
   ],
   "metadata": {
    "collapsed": false,
    "pycharm": {
     "name": "#%% md\n"
    }
   }
  },
  {
   "cell_type": "code",
   "execution_count": 5,
   "metadata": {},
   "outputs": [],
   "source": [
    "# Read in the data sets\n",
    "all_xray_df = pd.read_csv('/data/Data_Entry_2017.csv')\n",
    "all_xray_df.sample(3)\n",
    "data_sample = pd.read_csv('sample_labels.csv')\n",
    "data_sample.sample(3)"
   ]
  },
  {
   "cell_type": "markdown",
   "source": [
    "### Explanation of Columns\n",
    "Below is an explanation of all the columns present in the current dataset. Note that I do perform some data parsing in the next section\n",
    "so the actual columns in the dataframe will be slightly different. Specifically `Finding Labels` will be parsed into one hot encoding for each\n",
    "individual disease.\n",
    "\n",
    "&emsp;**Image Index:** This is the filename for the image for this observation.\n",
    "\n",
    "&emsp;**Finding Labels:** This is the disease type label for this observation. Note that there can be more than one and they are\n",
    "separated by a '|' character.\n",
    "\n",
    "&emsp;**Follow-up #:** This observations follow up #.\n",
    "\n",
    "&emsp;**Patient ID:** Unique identifier for each Patient. The same patient appears more than once in this dataset.\n",
    "\n",
    "&emsp;**Patient Age:** Age of the patient for this observation.\n",
    "\n",
    "&emsp;**Patient Gender:** Gender of the patient for this observation.\n",
    "\n",
    "&emsp;**View Position:** This observations radiographic view of the image relative to the imaging subject's orientation.\n",
    "\n",
    "&emsp;**Original Image\\[Width Height]:** The original image width and height for this observation.\n",
    "\n",
    "&emsp;**Original Image Pixel Spacing\\[x y]** All pixel spacing related Attributes are encoded as the physical distance between the centers of each two-dimensional pixel,\n",
    "specified by two numeric values. The first value is the row spacing in mm, that is the spacing between the centers of adjacent rows, or vertical spacing.\n",
    "\n",
    "\n",
    "### Parse `Image Index` to get correct image filepath\n",
    "We need to parse the Image Index filepath to the correct location of the image files for this project.\n",
    "The image files are found in '\\data\\images_XXX\\images directories."
   ],
   "metadata": {
    "collapsed": false
   }
  },
  {
   "cell_type": "code",
   "execution_count": null,
   "outputs": [],
   "source": [
    "all_image_paths = {os.path.basename(x): x for x in glob(os.path.join('/data', 'images_*', '*', '*.png'))}\n",
    "all_xray_df['path'] = all_xray_df['Image Index'].map(all_image_paths.get)\n",
    "all_xray_df.sample(3)\n"
   ],
   "metadata": {
    "collapsed": false,
    "pycharm": {
     "name": "#%%\n"
    }
   }
  },
  {
   "cell_type": "markdown",
   "source": [
    "### Parse `Finding Labels` by Disease\n",
    "Below I parse the `Finding Labels` column to create a 0/1 encoding for each specific type of disease for each observation.\n",
    "If the pateint has the disease the column value for that disease will be 1 otherwise it will be 0.\n",
    "This will make future operations more efficient."
   ],
   "metadata": {
    "collapsed": false,
    "pycharm": {
     "name": "#%% md\n"
    }
   }
  },
  {
   "cell_type": "code",
   "execution_count": null,
   "outputs": [],
   "source": [
    "all_labels = np.unique(list(chain(*all_xray_df['Finding Labels'].map(lambda x: x.split('|')).tolist())))\n",
    "all_labels = [x for x in all_labels if len(x)>0]\n",
    "for label in all_labels:\n",
    "    if len(label)>1:\n",
    "        all_xray_df[label] = all_xray_df['Finding Labels'].map(lambda diseases: 1.0 if label in diseases else 0)\n",
    "\n",
    "print(f'Number of Labels: {len(all_labels)}')\n",
    "print(f'Labels: {all_labels}')\n",
    "\n",
    "all_xray_df.sample(3)\n"
   ],
   "metadata": {
    "collapsed": false,
    "pycharm": {
     "name": "#%%\n"
    }
   }
  },
  {
   "cell_type": "markdown",
   "source": [
    "### Demographic information\n",
    "In this section I will look at patient age and gender for the entire dataset and for the population with pneumonia.\n",
    "Upon inspection of the patient age we noticed an outlier of 414. We removed it from the dataset below.\n",
    "As you can see below the distribution of age and the male/female split looks about the same between the two populations."
   ],
   "metadata": {
    "collapsed": false
   }
  },
  {
   "cell_type": "code",
   "execution_count": null,
   "outputs": [],
   "source": [
    "# Identify and remove outlier\n",
    "all_xray_df = all_xray_df.loc[all_xray_df['Patient Age'] < 130]\n",
    "\n",
    "# ----        Entire Dataset Demographics        ---- #\n",
    "# Age demographic\n",
    "min_age = all_xray_df['Patient Age'].min()\n",
    "max_age = all_xray_df['Patient Age'].max()\n",
    "mean_age = all_xray_df['Patient Age'].mean()\n",
    "print(f'Dataset min_age: {min_age}, max_age: {max_age}, mean: {round(mean_age,2)}')\n",
    "hist = plt.hist(all_xray_df['Patient Age'], bins=20)\n",
    "# Gender demographic\n",
    "all_xray_df['Patient Gender'].value_counts().plot(kind='bar')\n",
    "\n",
    "# ----        Pneumonia Population Demographics        ---- #\n",
    "pneumonia_subset = all_xray_df.loc[all_xray_df['Pneumonia']==1]\n",
    "# Age demographics\n",
    "min_age = pneumonia_subset['Patient Age'].min()\n",
    "max_age = pneumonia_subset['Patient Age'].max()\n",
    "mean_age = pneumonia_subset['Patient Age'].mean()\n",
    "print(f'Dataset min_age: {min_age}, max_age: {max_age}, mean: {mean_age}')\n",
    "hist = plt.hist(pneumonia_subset['Patient Age'], bins=20)\n",
    "# Gender demographics\n",
    "pneumonia_subset['Patient Gender'].value_counts().plot(kind='bar')\n"
   ],
   "metadata": {
    "collapsed": false,
    "pycharm": {
     "name": "#%%\n"
    }
   }
  },
  {
   "cell_type": "markdown",
   "source": [
    "### Examination of X-Ray View Positions\n",
    "Below we look at the different `View Position` available for X-Rays in this dataset. There are 2 different view positions.\n",
    "`PA` is when the patient is standing facing the image receptor and the rays pass through their back and exit their front (Posterior -> Anterior),\n",
    "`AP` is the opposite (Anterior -> Posterior). Below we look at how many of each type exist in this dataset and a some examples\n",
    "of each type to see if there is any noticeable difference. (I personally do not notice a difference but that is not saying much because\n",
    "I am not a trained radiologist. We will treat these two categories as being the same thing unless I read or find something that\n",
    "changes my mind in the future.)"
   ],
   "metadata": {
    "collapsed": false
   }
  },
  {
   "cell_type": "code",
   "execution_count": null,
   "outputs": [],
   "source": [
    "# Different types\n",
    "view_position_counts = all_xray_df['View Position'].value_counts()\n",
    "print(view_position_counts)\n",
    "view_position_counts.plot(kind='bar')\n",
    "\n",
    "# View random 'PA' X-Rays\n",
    "random_PA_xray = all_xray_df.loc[all_xray_df['View Position']=='PA'].sample(3)['Path']\n",
    "fig, axs = plt.subplots(1,3, figsize = (16,16))\n",
    "for path,ax in zip(random_PA_xray, axs):\n",
    "    img = io.imread(path)\n",
    "    ax.imshow(img, cmap='gray')\n",
    "\n",
    "#View random 'AP' X-Rays\n",
    "random_PA_xray = all_xray_df.loc[all_xray_df['View Position']=='AP'].sample(3)['Path']\n",
    "fig, axs = plt.subplots(1,3, figsize = (16,16))\n",
    "for path,ax in zip(random_PA_xray, axs):\n",
    "    img = io.imread(path)\n",
    "    ax.imshow(img, cmap='gray')\n"
   ],
   "metadata": {
    "collapsed": false,
    "pycharm": {
     "name": "#%%\n"
    }
   }
  },
  {
   "cell_type": "markdown",
   "source": [
    "### Examination of Diseases (pneumonia cases, non-pnuemonia cases, number of disease per patient, intensity histograms (only on sample), change this to text explanation)"
   ],
   "metadata": {
    "collapsed": false
   }
  },
  {
   "cell_type": "code",
   "execution_count": null,
   "outputs": [],
   "source": [],
   "metadata": {
    "collapsed": false,
    "pycharm": {
     "name": "#%%\n"
    }
   }
  },
  {
   "cell_type": "markdown",
   "source": [
    "### Co-occurrence with Pneumonia"
   ],
   "metadata": {
    "collapsed": false
   }
  },
  {
   "cell_type": "code",
   "execution_count": null,
   "outputs": [],
   "source": [],
   "metadata": {
    "collapsed": false,
    "pycharm": {
     "name": "#%%\n"
    }
   }
  },
  {
   "cell_type": "markdown",
   "source": [
    "## Important Findings"
   ],
   "metadata": {
    "collapsed": false,
    "pycharm": {
     "name": "#%% md\n"
    }
   }
  }
 ],
 "metadata": {
  "kernelspec": {
   "display_name": "Python 3",
   "language": "python",
   "name": "python3"
  },
  "language_info": {
   "codemirror_mode": {
    "name": "ipython",
    "version": 3
   },
   "file_extension": ".py",
   "mimetype": "text/x-python",
   "name": "python",
   "nbconvert_exporter": "python",
   "pygments_lexer": "ipython3",
   "version": "3.7.6"
  }
 },
 "nbformat": 4,
 "nbformat_minor": 2
}