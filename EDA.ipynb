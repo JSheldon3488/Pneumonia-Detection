{
 "cells": [
  {
   "cell_type": "markdown",
   "source": [
    "# Exploratory Data Analysis\n",
    "-------\n",
    "\n",
    "## Import all necessary packages"
   ],
   "metadata": {
    "collapsed": false,
    "pycharm": {
     "name": "#%% md\n"
    }
   }
  },
  {
   "cell_type": "code",
   "execution_count": 4,
   "outputs": [],
   "source": [
    "from itertools import chain\n",
    "import numpy as np\n",
    "import pandas as pd\n",
    "import os\n",
    "from glob import glob\n",
    "%matplotlib inline\n",
    "import matplotlib.pyplot as plt\n",
    "from skimage import io\n",
    "import seaborn as sns"
   ],
   "metadata": {
    "collapsed": false,
    "pycharm": {
     "name": "#%%\n"
    }
   }
  },
  {
   "cell_type": "markdown",
   "source": [
    "## Examine the Dataset\n",
    "Below is some code to read and and view some observations in the dataset. Note that the filepath below are relative to the\n",
    "Udacity Workspace and you will need to change them to your local filepath if you want to run this locally.\n",
    "[Here](https://www.kaggle.com/nih-chest-xrays/data) is the where the dataset is located."
   ],
   "metadata": {
    "collapsed": false,
    "pycharm": {
     "name": "#%% md\n"
    }
   }
  },
  {
   "cell_type": "code",
   "execution_count": 5,
   "metadata": {},
   "outputs": [],
   "source": [
    "# Read in the data sets\n",
    "all_xray_df = pd.read_csv('/data/Data_Entry_2017.csv')\n",
    "all_xray_df.sample(3)\n",
    "sample_df = pd.read_csv('sample_labels.csv')\n",
    "sample_df.sample(3)"
   ]
  },
  {
   "cell_type": "markdown",
   "source": [
    "### Explanation of Columns\n",
    "Below is an explanation of all the columns present in the current dataset. Note that I do perform some data parsing in the next section\n",
    "so the actual columns in the dataframe will be slightly different. Specifically `Finding Labels` will be parsed into one hot encoding for each\n",
    "individual disease.\n",
    "\n",
    "&emsp;**Image Index:** This is the filename for the image for this observation.\n",
    "\n",
    "&emsp;**Finding Labels:** This is the disease type label for this observation. Note that there can be more than one and they are\n",
    "separated by a '|' character.\n",
    "\n",
    "&emsp;**Follow-up #:** This observations follow up #.\n",
    "\n",
    "&emsp;**Patient ID:** Unique identifier for each Patient. The same patient appears more than once in this dataset.\n",
    "\n",
    "&emsp;**Patient Age:** Age of the patient for this observation.\n",
    "\n",
    "&emsp;**Patient Gender:** Gender of the patient for this observation.\n",
    "\n",
    "&emsp;**View Position:** This observations radiographic view of the image relative to the imaging subject's orientation.\n",
    "\n",
    "&emsp;**Original Image\\[Width Height]:** The original image width and height for this observation.\n",
    "\n",
    "&emsp;**Original Image Pixel Spacing\\[x y]** All pixel spacing related Attributes are encoded as the physical distance between the centers of each two-dimensional pixel,\n",
    "specified by two numeric values. The first value is the row spacing in mm, that is the spacing between the centers of adjacent rows, or vertical spacing.\n",
    "\n",
    "\n",
    "### Parse `Image Index` to get correct image filepath\n",
    "We need to parse the Image Index filepath to the correct location of the image files for this project.\n",
    "The image files are found in '\\data\\images_XXX\\images directories."
   ],
   "metadata": {
    "collapsed": false
   }
  },
  {
   "cell_type": "code",
   "execution_count": null,
   "outputs": [],
   "source": [
    "all_image_paths = {os.path.basename(x): x for x in glob(os.path.join('/data', 'images_*', '*', '*.png'))}\n",
    "# Setup main dataset\n",
    "all_xray_df['path'] = all_xray_df['Image Index'].map(all_image_paths.get)\n",
    "all_xray_df.sample(3)\n",
    "#Setup sample dataset\n",
    "sample_df['path'] = sample_df['Image Index'].map(all_image_paths.get)\n",
    "sample_df.sample(3)"
   ],
   "metadata": {
    "collapsed": false,
    "pycharm": {
     "name": "#%%\n"
    }
   }
  },
  {
   "cell_type": "markdown",
   "source": [
    "### Parse `Finding Labels` by Disease\n",
    "Below I parse the `Finding Labels` column to create a 0/1 encoding for each specific type of disease for each observation.\n",
    "If the patent has the disease the column value for that disease will be 1 otherwise it will be 0.\n",
    "This will make future operations more efficient."
   ],
   "metadata": {
    "collapsed": false,
    "pycharm": {
     "name": "#%% md\n"
    }
   }
  },
  {
   "cell_type": "code",
   "execution_count": null,
   "outputs": [],
   "source": [
    "all_labels = np.unique(list(chain(*all_xray_df['Finding Labels'].map(lambda x: x.split('|')).tolist())))\n",
    "all_labels = [x for x in all_labels if len(x)>0]\n",
    "for label in all_labels:\n",
    "    if len(label)>1:\n",
    "        all_xray_df[label] = all_xray_df['Finding Labels'].map(lambda diseases: 1.0 if label in diseases else 0)\n",
    "        sample_df[label] = sample_df['Finding Labels'].map(lambda diseases: 1.0 if label in diseases else 0)\n",
    "\n",
    "print(f'Number of Labels: {len(all_labels)}')\n",
    "print(f'Labels: {all_labels}')\n",
    "\n",
    "all_xray_df.sample(3)\n",
    "sample_df.sample(3)\n"
   ],
   "metadata": {
    "collapsed": false,
    "pycharm": {
     "name": "#%%\n"
    }
   }
  },
  {
   "cell_type": "markdown",
   "source": [
    "### Demographic information\n",
    "In this section I will look at patient age and gender for the entire dataset and for the population with pneumonia.\n",
    "Upon inspection of the patient age we noticed an outlier of 414. We removed it from the dataset below.\n",
    "As you can see below the distribution of age and the male/female split looks about the same between the two populations."
   ],
   "metadata": {
    "collapsed": false
   }
  },
  {
   "cell_type": "code",
   "execution_count": null,
   "outputs": [],
   "source": [
    "# Identify and remove outlier\n",
    "all_xray_df = all_xray_df.loc[all_xray_df['Patient Age'] < 130]\n",
    "\n",
    "# ----        Entire Dataset Demographics        ---- #\n",
    "# Age demographic\n",
    "min_age = all_xray_df['Patient Age'].min()\n",
    "max_age = all_xray_df['Patient Age'].max()\n",
    "mean_age = all_xray_df['Patient Age'].mean()\n",
    "print(f'Dataset min_age: {min_age}, max_age: {max_age}, mean: {round(mean_age,2)}')\n",
    "hist = plt.hist(all_xray_df['Patient Age'], bins=20)\n",
    "# Gender demographic\n",
    "all_xray_df['Patient Gender'].value_counts().plot(kind='bar')\n",
    "\n",
    "# ----        Pneumonia Population Demographics        ---- #\n",
    "pneumonia_subset = all_xray_df.loc[all_xray_df['Pneumonia']==1]\n",
    "# Age demographics\n",
    "min_age = pneumonia_subset['Patient Age'].min()\n",
    "max_age = pneumonia_subset['Patient Age'].max()\n",
    "mean_age = pneumonia_subset['Patient Age'].mean()\n",
    "print(f'Dataset min_age: {min_age}, max_age: {max_age}, mean: {mean_age}')\n",
    "hist = plt.hist(pneumonia_subset['Patient Age'], bins=20)\n",
    "# Gender demographics\n",
    "pneumonia_subset['Patient Gender'].value_counts().plot(kind='bar')\n"
   ],
   "metadata": {
    "collapsed": false,
    "pycharm": {
     "name": "#%%\n"
    }
   }
  },
  {
   "cell_type": "markdown",
   "source": [
    "### Examination of X-Ray View Positions\n",
    "Below we look at the different `View Position` available for X-Rays in this dataset. There are 2 different view positions.\n",
    "`PA` is when the patient is standing facing the image receptor and the rays pass through their back and exit their front (Posterior -> Anterior),\n",
    "`AP` is the opposite (Anterior -> Posterior). Below we look at how many of each type exist in this dataset and a some examples\n",
    "of each type to see if there is any noticeable difference. (I personally do not notice a difference but that is not saying much because\n",
    "I am not a trained radiologist. We will treat these two categories as being the same thing unless I read or find something that\n",
    "changes my mind in the future.)"
   ],
   "metadata": {
    "collapsed": false
   }
  },
  {
   "cell_type": "code",
   "execution_count": null,
   "outputs": [],
   "source": [
    "# Different types\n",
    "view_position_counts = all_xray_df['View Position'].value_counts()\n",
    "print(view_position_counts)\n",
    "view_position_counts.plot(kind='bar')\n",
    "\n",
    "# View random 'PA' X-Rays\n",
    "random_PA_xray = all_xray_df.loc[all_xray_df['View Position']=='PA'].sample(3)['Path']\n",
    "fig, axs = plt.subplots(1,3, figsize = (16,16))\n",
    "for path,ax in zip(random_PA_xray, axs):\n",
    "    img = io.imread(path)\n",
    "    ax.imshow(img, cmap='gray')\n",
    "\n",
    "#View random 'AP' X-Rays\n",
    "random_PA_xray = all_xray_df.loc[all_xray_df['View Position']=='AP'].sample(3)['Path']\n",
    "fig, axs = plt.subplots(1,3, figsize = (16,16))\n",
    "for path,ax in zip(random_PA_xray, axs):\n",
    "    img = io.imread(path)\n",
    "    ax.imshow(img, cmap='gray')\n"
   ],
   "metadata": {
    "collapsed": false,
    "pycharm": {
     "name": "#%%\n"
    }
   }
  },
  {
   "cell_type": "markdown",
   "source": [
    "### Examination of Pneumonia Cases\n",
    "Below we look at some disease information like the number of pneumonia cases vs non-pneumonia cases in the dataset,\n",
    "and some histograms to understand the pixel intensity distribution of pneumonia vs non-pneumonia images.\n",
    "We see below that the percentage of pneumonia cases is only 1.276% of the disease cases. We will have to keep that in\n",
    "mind and make sure our training and testing sets are representative of the true population. As for the pixel intensity\n",
    "distributions it is really hard to tell if there is a significant difference between the two. Maybe if we isolated only\n",
    "the lungs in the images we would see a noticeable difference in the two distributions but when looking at the entire image\n",
    "I do not see a significant difference in the pneumonia vs non-pneumonia distributions."
   ],
   "metadata": {
    "collapsed": false
   }
  },
  {
   "cell_type": "code",
   "execution_count": null,
   "outputs": [],
   "source": [
    "# Pneumonia information\n",
    "pneumonia_cases = all_xray_df['Pneumonia'].sum(axis=0)\n",
    "non_pneumonia_cases = len(all_xray_df.index) - pneumonia_cases\n",
    "print(f'Pneumonia Cases: {int(pneumonia_cases)}, \\\n",
    "      Non-Pneumonia Cases: {int(non_pneumonia_cases)}, \\\n",
    "      Percentage of Pneumonia Cases: {round(100*(pneumonia_cases/(pneumonia_cases+non_pneumonia_cases)),3)}%')\n",
    "\n",
    "# Pixel Intensity Distribution Pneumonia Positive\n",
    "sample_df_pneumonia_images = sample_df[sample_df['Pneumonia']==1]['path']\n",
    "pneumonia_pixel = []\n",
    "for img in sample_df_pneumonia_images:\n",
    "    img = io.imread(img).ravel()\n",
    "    # Remove background noise\n",
    "    img_mask = [True if 35 < pixel < 255 else False for pixel in img]\n",
    "    pneumonia_pixel.extend(img[img_mask])\n",
    "print(f'mean: {round(np.mean(pneumonia_pixel),2)}, std: {round(np.std(pneumonia_pixel),2)}')\n",
    "pneumonia_dist = plt.hist(pneumonia_pixel, bins=256)\n",
    "\n",
    "# Pixel Intensity Distribution Pneumonia Negative\n",
    "sample_df_non_pneumonia_images = sample_df[sample_df['Pneumonia']==0]['path'].sample(len(sample_df_pneumonia_images.index))\n",
    "non_pneumonia_pixel = []\n",
    "for img in sample_df_non_pneumonia_images:\n",
    "    img = io.imread(img).ravel()\n",
    "    # Remove background noise\n",
    "    img_mask = [True if 35 < pixel < 255 else False for pixel in img]\n",
    "    non_pneumonia_pixel.extend(img[img_mask])\n",
    "print(f'mean: {round(np.mean(non_pneumonia_pixel),2)}, std: {round(np.std(non_pneumonia_pixel),2)}')\n",
    "non_pneumonia_dist = plt.hist(non_pneumonia_pixel, bins=256)\n"
   ],
   "metadata": {
    "collapsed": false,
    "pycharm": {
     "name": "#%%\n"
    }
   }
  },
  {
   "cell_type": "markdown",
   "source": [
    "### Co-occurrence with Pneumonia\n",
    "Below we see that Pneumonia is not the most common disease in this dataset. Also we see that Pneumonia co-occurs commonly with\n",
    "Infiltration, Edema, Atelectasis, and Effusion. This is something to keep in mind once we have a trained classifier.\n",
    "It might help to check the observations our classifier is getting wrong and see if it is miss classifying these common co-occurrence diseases for pneumonia."
   ],
   "metadata": {
    "collapsed": false
   }
  },
  {
   "cell_type": "code",
   "execution_count": null,
   "outputs": [],
   "source": [
    "# Counts of all diseases\n",
    "disease_counts = all_xray_df[all_labels].sum().sort_values(ascending=False).plot(kind='bar')\n",
    "disease_counts.set(ylabel = \"Disease Counts\")\n",
    "\n",
    "# Co-occurrence of diseases\n",
    "co_occurrence_counts = all_xray_df[all_xray_df['Pneumonia']==1]['Finding Labels'].value_counts().plot(kind='bar')\n",
    "co_occurrence_counts.set(ylabel = \"Co-Occurrence Disease Counts\")\n"
   ],
   "metadata": {
    "collapsed": false,
    "pycharm": {
     "name": "#%%\n"
    }
   }
  },
  {
   "cell_type": "markdown",
   "source": [
    "## Important Findings by Section"
   ],
   "metadata": {
    "collapsed": false,
    "pycharm": {
     "name": "#%% md\n"
    }
   }
  }
 ],
 "metadata": {
  "kernelspec": {
   "display_name": "Python 3",
   "language": "python",
   "name": "python3"
  },
  "language_info": {
   "codemirror_mode": {
    "name": "ipython",
    "version": 3
   },
   "file_extension": ".py",
   "mimetype": "text/x-python",
   "name": "python",
   "nbconvert_exporter": "python",
   "pygments_lexer": "ipython3",
   "version": "3.7.6"
  }
 },
 "nbformat": 4,
 "nbformat_minor": 2
}