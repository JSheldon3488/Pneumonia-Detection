{
 "cells": [
  {
   "cell_type": "markdown",
   "source": [
    "# Exploratory Data Analysis\n",
    "-------\n",
    "\n",
    "## Import all necessary packages"
   ],
   "metadata": {
    "collapsed": false,
    "pycharm": {
     "name": "#%% md\n"
    }
   }
  },
  {
   "cell_type": "code",
   "execution_count": 4,
   "outputs": [],
   "source": [
    "from itertools import chain\n",
    "import numpy as np\n",
    "import pandas as pd\n",
    "import os\n",
    "from glob import glob\n",
    "%matplotlib inline\n",
    "import matplotlib.pyplot as plt\n",
    "import seaborn as sns"
   ],
   "metadata": {
    "collapsed": false,
    "pycharm": {
     "name": "#%%\n"
    }
   }
  },
  {
   "cell_type": "markdown",
   "source": [
    "## Examine the Dataset\n",
    "Below is some code to read and and view some observations in the dataset. Note that the filepath below are relative to the\n",
    "Udacity Workspace and you will need to change them to your local filepath if you want to run this locally.\n",
    "[Here](https://www.kaggle.com/nih-chest-xrays/data) is the where the dataset is located."
   ],
   "metadata": {
    "collapsed": false,
    "pycharm": {
     "name": "#%% md\n"
    }
   }
  },
  {
   "cell_type": "code",
   "execution_count": 5,
   "metadata": {},
   "outputs": [],
   "source": [
    "# Read in the data sets\n",
    "all_xray_df = pd.read_csv('/data/Data_Entry_2017.csv')\n",
    "all_xray_df.sample(3)\n",
    "data_sample = pd.read_csv('sample_labels.csv')\n",
    "data_sample.sample(3)"
   ]
  },
  {
   "cell_type": "markdown",
   "source": [
    "### Explanation of Columns\n",
    "Below is an explanation of all the columns present in the current dataset. Note that I do perform some data parsing in the next section\n",
    "so the actual columns in the dataframe will be slightly different. Specifically `Finding Labels` will be parsed into one hot encoding for each\n",
    "individual disease.\n",
    "\n",
    ">**Image Index:** This is the filename for the image for this observation.\n",
    "\n",
    ">**Finding Labels:** This is the disease type label for this observation. Note that there can be more than one and they are\n",
    "separated by a '|' character.\n",
    "\n",
    ">**Follow-up #:** This observations follow up #.\n",
    "\n",
    ">**Patient ID:** Unique identifier for each Patient. The same patient appears more than once in this dataset.\n",
    "\n",
    ">**Patient Age:** Age of the patient for this observation.\n",
    "\n",
    ">**Patient Gender:** Gender of the patient for this observation.\n",
    "\n",
    ">**View Position:** This observations radiographic view of the image relative to the imaging subject's orientation.\n",
    "\n",
    ">**Original Image\\[Width Height]:** The original image width and height for this observation.\n",
    "\n",
    ">**Original Image Pixel Spacing\\[x y]** All pixel spacing related Attributes are encoded as the physical distance between the centers of each two-dimensional pixel,\n",
    "specified by two numeric values. The first value is the row spacing in mm, that is the spacing between the centers of adjacent rows, or vertical spacing.\n",
    "\n",
    "\n",
    "### Parse `Finding Labels` by Disease\n",
    "Below I parse the `Finding Labels` attribute to create one hot encoding for each specific type of disease for each observation. This will\n",
    "make future operations more efficient."
   ],
   "metadata": {
    "collapsed": false
   }
  },
  {
   "cell_type": "code",
   "execution_count": null,
   "outputs": [],
   "source": [
    "all_labels = np.unique(list(chain(*all_xray_df['Finding Labels'].map(lambda x: x.split('|')).tolist())))\n",
    "all_labels = [x for x in all_labels if len(x)>0]\n",
    "for label in all_labels:\n",
    "    if len(label)>1:\n",
    "        all_xray_df[label] = all_xray_df['Finding Labels'].map(lambda diseases: 1.0 if label in diseases else 0)\n",
    "all_xray_df.sample(3)\n"
   ],
   "metadata": {
    "collapsed": false,
    "pycharm": {
     "name": "#%%\n"
    }
   }
  },
  {
   "cell_type": "markdown",
   "source": [
    "### Demographic information"
   ],
   "metadata": {
    "collapsed": false
   }
  },
  {
   "cell_type": "code",
   "execution_count": null,
   "outputs": [],
   "source": [],
   "metadata": {
    "collapsed": false,
    "pycharm": {
     "name": "#%%\n"
    }
   }
  },
  {
   "cell_type": "markdown",
   "source": [
    "### Examination of X-Ray Views (What types, what they look like, change this to text explanation)"
   ],
   "metadata": {
    "collapsed": false
   }
  },
  {
   "cell_type": "code",
   "execution_count": null,
   "outputs": [],
   "source": [],
   "metadata": {
    "collapsed": false,
    "pycharm": {
     "name": "#%%\n"
    }
   }
  },
  {
   "cell_type": "markdown",
   "source": [
    "### Examination of Diseases (pneumonia cases, non-pnuemonia cases, number of disease per patient, intensity histograms (only on sample), change this to text explanation)"
   ],
   "metadata": {
    "collapsed": false
   }
  },
  {
   "cell_type": "code",
   "execution_count": null,
   "outputs": [],
   "source": [],
   "metadata": {
    "collapsed": false,
    "pycharm": {
     "name": "#%%\n"
    }
   }
  },
  {
   "cell_type": "markdown",
   "source": [
    "### Co-occurrence with Pneumonia"
   ],
   "metadata": {
    "collapsed": false
   }
  },
  {
   "cell_type": "code",
   "execution_count": null,
   "outputs": [],
   "source": [],
   "metadata": {
    "collapsed": false,
    "pycharm": {
     "name": "#%%\n"
    }
   }
  },
  {
   "cell_type": "markdown",
   "source": [
    "## Important Findings"
   ],
   "metadata": {
    "collapsed": false,
    "pycharm": {
     "name": "#%% md\n"
    }
   }
  }
 ],
 "metadata": {
  "kernelspec": {
   "display_name": "Python 3",
   "language": "python",
   "name": "python3"
  },
  "language_info": {
   "codemirror_mode": {
    "name": "ipython",
    "version": 3
   },
   "file_extension": ".py",
   "mimetype": "text/x-python",
   "name": "python",
   "nbconvert_exporter": "python",
   "pygments_lexer": "ipython3",
   "version": "3.7.6"
  }
 },
 "nbformat": 4,
 "nbformat_minor": 2
}